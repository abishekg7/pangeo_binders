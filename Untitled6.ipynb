{
 "cells": [
  {
   "cell_type": "code",
   "execution_count": null,
   "metadata": {},
   "outputs": [],
   "source": [
    "from dask.distributed import Client\n",
    "\n",
    "client = Client(\"tcp://127.0.0.1:44281\")\n",
    "client"
   ]
  },
  {
   "cell_type": "code",
   "execution_count": null,
   "metadata": {},
   "outputs": [],
   "source": [
    "from dask.distributed import Client\n",
    "\n",
    "client = Client(\"tcp://127.0.0.1:44281\")\n",
    "client"
   ]
  },
  {
   "cell_type": "code",
   "execution_count": null,
   "metadata": {},
   "outputs": [],
   "source": [
    "from dask.distributed import Client\n",
    "\n",
    "client = Client(\"tcp://127.0.0.1:44281\")\n",
    "client"
   ]
  },
  {
   "cell_type": "code",
   "execution_count": 1,
   "metadata": {},
   "outputs": [
    {
     "name": "stdout",
     "output_type": "stream",
     "text": [
      "#!/usr/bin/env bash\n",
      "\n",
      "#BSUB -J dask-worker\n",
      "#BSUB -P 082752546306\n",
      "#BSUB -n 4\n",
      "#BSUB -M 8000\n",
      "#BSUB -W 00:30\n",
      "#BSUB -R \"span[ptile=4]\"\n",
      "#BSUB -R \"rusage[mem=8000]\"\n",
      "\n",
      "/ihesp/shared/conda/envs/jupyterlab_env/bin/python -m distributed.cli.dask_worker tcp://165.91.16.19:37112 --nthreads 1 --nprocs 4 --memory-limit 2.00GB --name name --nanny --death-timeout 60\n",
      "\n"
     ]
    },
    {
     "data": {
      "text/html": [
       "<table style=\"border: 2px solid white;\">\n",
       "<tr>\n",
       "<td style=\"vertical-align: top; border: 0px solid white\">\n",
       "<h3 style=\"text-align: left;\">Client</h3>\n",
       "<ul style=\"text-align: left; list-style: none; margin: 0; padding: 0;\">\n",
       "  <li><b>Scheduler: </b>tcp://165.91.16.19:37112</li>\n",
       "  <li><b>Dashboard: </b><a href='/user/agopal/proxy/8787/status' target='_blank'>/user/agopal/proxy/8787/status</a></li>\n",
       "</ul>\n",
       "</td>\n",
       "<td style=\"vertical-align: top; border: 0px solid white\">\n",
       "<h3 style=\"text-align: left;\">Cluster</h3>\n",
       "<ul style=\"text-align: left; list-style:none; margin: 0; padding: 0;\">\n",
       "  <li><b>Workers: </b>0</li>\n",
       "  <li><b>Cores: </b>0</li>\n",
       "  <li><b>Memory: </b>0 B</li>\n",
       "</ul>\n",
       "</td>\n",
       "</tr>\n",
       "</table>"
      ],
      "text/plain": [
       "<Client: 'tcp://165.91.16.19:37112' processes=0 threads=0, memory=0 B>"
      ]
     },
     "execution_count": 1,
     "metadata": {},
     "output_type": "execute_result"
    }
   ],
   "source": [
    "import xarray as xr\n",
    "import time\n",
    "from matplotlib import pyplot as plt\n",
    "import numpy as np\n",
    "from glob import glob\n",
    "\n",
    "#import hvplot.xarray\n",
    "#import holoviews as hv\n",
    "#hv.extension('bokeh')\n",
    "%matplotlib inline\n",
    "\n",
    "from dask.distributed import Client\n",
    "from dask_jobqueue import LSFCluster\n",
    "\n",
    "#082752546306 new\n",
    "cluster = LSFCluster(cores=4,memory='8GB',project='082752546306',use_stdin=True,\n",
    "                     job_extra=['-R \"span[ptile=4]\"','-R \"rusage[mem=8000]\"'])\n",
    "\n",
    "print(cluster.job_script())\n",
    "cluster.scale(1)\n",
    "\n",
    "client = Client(cluster)\n",
    "client"
   ]
  },
  {
   "cell_type": "code",
   "execution_count": null,
   "metadata": {},
   "outputs": [],
   "source": [
    "#loc = '/ihesp/user/liu6/GOM_9k_nature_copernicus/Orig/cmpr_GOM_9k_nature_copernicus.ocn.hi.2016-05-22_03:00:00.nc'\n",
    "#ds = xr.open_dataset(loc,chunks=chunks)\n",
    "\n",
    "infiles='/ihesp/user/liu6/GOM_9k_nature_copernicus/Orig/cmpr_GOM_9k_nature_copernicus.ocn.hi.2018*'\n",
    "ds = xr.open_mfdataset(infiles,combine='by_coords',concat_dim='ocean_time',parallel='True')\n",
    "#chunks = {'ocean_time': 1} #{'s_rho': 1}\n"
   ]
  },
  {
   "cell_type": "code",
   "execution_count": null,
   "metadata": {},
   "outputs": [],
   "source": [
    "client"
   ]
  },
  {
   "cell_type": "code",
   "execution_count": null,
   "metadata": {},
   "outputs": [],
   "source": [
    "qs2 = ds.salt.groupby('ocean_time.season').mean('ocean_time')"
   ]
  },
  {
   "cell_type": "code",
   "execution_count": null,
   "metadata": {},
   "outputs": [],
   "source": [
    "qs2"
   ]
  },
  {
   "cell_type": "code",
   "execution_count": null,
   "metadata": {},
   "outputs": [],
   "source": [
    "qs2.isel(s_rho=-1).plot(x='lon_rho', y='lat_rho')"
   ]
  },
  {
   "cell_type": "code",
   "execution_count": null,
   "metadata": {},
   "outputs": [],
   "source": []
  },
  {
   "cell_type": "code",
   "execution_count": null,
   "metadata": {},
   "outputs": [],
   "source": []
  },
  {
   "cell_type": "code",
   "execution_count": null,
   "metadata": {},
   "outputs": [],
   "source": []
  },
  {
   "cell_type": "code",
   "execution_count": null,
   "metadata": {},
   "outputs": [],
   "source": []
  },
  {
   "cell_type": "code",
   "execution_count": null,
   "metadata": {},
   "outputs": [],
   "source": []
  },
  {
   "cell_type": "code",
   "execution_count": null,
   "metadata": {},
   "outputs": [],
   "source": []
  }
 ],
 "metadata": {
  "kernelspec": {
   "display_name": "Python 3",
   "language": "python",
   "name": "python3"
  },
  "language_info": {
   "codemirror_mode": {
    "name": "ipython",
    "version": 3
   },
   "file_extension": ".py",
   "mimetype": "text/x-python",
   "name": "python",
   "nbconvert_exporter": "python",
   "pygments_lexer": "ipython3",
   "version": "3.6.11"
  }
 },
 "nbformat": 4,
 "nbformat_minor": 4
}
