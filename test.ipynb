import xarray as xr
import zarr

store = zarr.ABSStore(container='mycontainer', prefix='zarrstoreall',account_name='ihesp', blob_service_kwargs={'is_emulated': False})


ds = xr.open_zarr(store=store, consolidated=True)

print(ds)
