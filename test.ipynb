{
 "cells": [
  {
   "cell_type": "code",
   "execution_count": 1,
   "metadata": {},
   "outputs": [
    {
     "ename": "ModuleNotFoundError",
     "evalue": "No module named 'xarray'",
     "output_type": "error",
     "traceback": [
      "\u001b[0;31m---------------------------------------------------------------------------\u001b[0m",
      "\u001b[0;31mModuleNotFoundError\u001b[0m                       Traceback (most recent call last)",
      "\u001b[0;32m<ipython-input-1-f34fc4b5c789>\u001b[0m in \u001b[0;36m<module>\u001b[0;34m\u001b[0m\n\u001b[0;32m----> 1\u001b[0;31m \u001b[0;32mimport\u001b[0m \u001b[0mxarray\u001b[0m \u001b[0;32mas\u001b[0m \u001b[0mxr\u001b[0m\u001b[0;34m\u001b[0m\u001b[0;34m\u001b[0m\u001b[0m\n\u001b[0m\u001b[1;32m      2\u001b[0m \u001b[0;32mimport\u001b[0m \u001b[0mzarr\u001b[0m\u001b[0;34m\u001b[0m\u001b[0;34m\u001b[0m\u001b[0m\n\u001b[1;32m      3\u001b[0m \u001b[0;31m#from azure.storage.blob import BlobServiceClient, BlobClient, ContainerClient\u001b[0m\u001b[0;34m\u001b[0m\u001b[0;34m\u001b[0m\u001b[0;34m\u001b[0m\u001b[0m\n\u001b[1;32m      4\u001b[0m \u001b[0;31m#from azure.storage.blob import BlobServiceClient\u001b[0m\u001b[0;34m\u001b[0m\u001b[0;34m\u001b[0m\u001b[0;34m\u001b[0m\u001b[0m\n\u001b[1;32m      5\u001b[0m \u001b[0;34m\u001b[0m\u001b[0m\n",
      "\u001b[0;31mModuleNotFoundError\u001b[0m: No module named 'xarray'"
     ]
    }
   ],
   "source": [
    "import xarray as xr\n",
    "import zarr\n",
    "#from azure.storage.blob import BlobServiceClient, BlobClient, ContainerClient\n",
    "#from azure.storage.blob import BlobServiceClient\n",
    "\n",
    "store = zarr.ABSStore(container='mycontainer', prefix='zarrstoreall',account_name='ihesp', blob_service_kwargs={'is_emulated': False})\n",
    "\n",
    "#store = zarr.ABSStore(container='mycontainer', prefix='zarrstoreall',account_name='ihesp',account_key='UIDnpSmyG5w35MZ8xA0b6WdOi8Btd9GqneAei0ueKXcdBekPP89a6I3iEvd/JDHZJHrMu/pwuPsF2DNKTeeDfw==', blob_service_kwargs={'is_emulated': False})\n",
    "\n",
    "\n",
    "\n",
    "#ds = xr.open_dataset('/ihesp/archive/LR/b.e13.B1950TRC5.ne30_g16.ihesp24_1950-2050.002/ocn/hist/b.e13.B1950TRC5.ne30_g16.ihesp24_1950-2050.002.pop.h.1960-01.nc')\n",
    "\n",
    "#compressor = zarr.Blosc(cname='zstd', clevel=3)\n",
    "#encoding = {vname: {'compressor': compressor} for vname in ds.data_vars}\n",
    "#ds.to_zarr('.data/test.zarr')\n",
    "\n",
    "ds = xr.open_zarr(store=store, consolidated=True)\n",
    "\n",
    "print(ds)"
   ]
  },
  {
   "cell_type": "code",
   "execution_count": null,
   "metadata": {},
   "outputs": [],
   "source": []
  },
  {
   "cell_type": "code",
   "execution_count": null,
   "metadata": {},
   "outputs": [],
   "source": []
  }
 ],
 "metadata": {
  "kernelspec": {
   "display_name": "Python 3",
   "language": "python",
   "name": "python3"
  },
  "language_info": {
   "codemirror_mode": {
    "name": "ipython",
    "version": 3
   },
   "file_extension": ".py",
   "mimetype": "text/x-python",
   "name": "python",
   "nbconvert_exporter": "python",
   "pygments_lexer": "ipython3",
   "version": "3.7.6"
  }
 },
 "nbformat": 4,
 "nbformat_minor": 4
}
